{
 "cells": [
  {
   "cell_type": "markdown",
   "metadata": {},
   "source": [
    "# 1.读取数据源（警报统计EXCEL）"
   ]
  },
  {
   "cell_type": "code",
   "execution_count": 1,
   "metadata": {},
   "outputs": [],
   "source": [
    "import xlrd\n",
    "import xlwt\n",
    "from datetime import datetime\n",
    "import datetime"
   ]
  },
  {
   "cell_type": "markdown",
   "metadata": {},
   "source": [
    "### 1.1读取X轴数据（日期）"
   ]
  },
  {
   "cell_type": "code",
   "execution_count": 2,
   "metadata": {},
   "outputs": [],
   "source": [
    "def XaxisData(nrows,csv_content):\n",
    "    tm = []\n",
    "    for i in range(1,nrows):\n",
    "        tmm = xlrd.xldate_as_tuple(csv_content.cell(i, 0).value, 0)\n",
    "        tmm = str(tmm[0])+str(tmm[1]).zfill(2)+str(tmm[2]).zfill(2)\n",
    "        tm.append(tmm)\n",
    "    return tm"
   ]
  },
  {
   "cell_type": "markdown",
   "metadata": {},
   "source": [
    "### 1.2读取各制程数据"
   ]
  },
  {
   "cell_type": "code",
   "execution_count": 3,
   "metadata": {},
   "outputs": [],
   "source": [
    "def PlantData(nrows,nub,csv_content):\n",
    "    csg =[]\n",
    "#     csgobjective = [] #目标值\n",
    "    for i in range(1,nrows):\n",
    "        ncsg = csv_content.cell(i, nub).value\n",
    "        csg.append(ncsg)\n",
    "#         csgobjective.append(csv_content.cell(i, 2).value)\n",
    "    plantname = csv_content.cell(0, nub).value\n",
    "    return csg,plantname"
   ]
  },
  {
   "cell_type": "markdown",
   "metadata": {},
   "source": [
    "### 1.3获取相关数据"
   ]
  },
  {
   "cell_type": "code",
   "execution_count": 4,
   "metadata": {},
   "outputs": [],
   "source": [
    "def ReadData(filename,sheetname,nub):\n",
    "    workBook = xlrd.open_workbook(filename)\n",
    "    csv_content = workBook.sheet_by_name(sheetname)\n",
    "    nrows = csv_content.nrows #有效行\n",
    "    ncols = csv_content.ncols #有效列\n",
    "    tm,csg = [],[]\n",
    "    for i in range(1,nrows):\n",
    "        tmm = xlrd.xldate_as_tuple(csv_content.cell(i, 0).value, 0)\n",
    "        tmm = str(tmm[0])+str(tmm[1]).zfill(2)+str(tmm[2]).zfill(2)\n",
    "        tm.append(tmm)\n",
    "        ncsg = csv_content.cell(i, nub).value\n",
    "        csg.append(ncsg)\n",
    "#     tmdata = XaxisData(nrows,csv_content)\n",
    "#     csgobjective = [] #目标值\n",
    "#         csgobjective.append(csv_content.cell(i, 2).value)\n",
    "    plantname = csv_content.cell(0, nub).value\n",
    "#     AlarmData,plantname = PlantData(ncols,nub,csv_content)\n",
    "#     print(tmdata)\n",
    "#     print(AlarmData)\n",
    "    return tm,csg,plantname"
   ]
  },
  {
   "cell_type": "markdown",
   "metadata": {},
   "source": [
    "# 2.绘制看板图"
   ]
  },
  {
   "cell_type": "code",
   "execution_count": 5,
   "metadata": {},
   "outputs": [],
   "source": [
    "from pyecharts import options as opts\n",
    "from pyecharts.charts import Bar, Grid, Line, Liquid, Page, Pie\n",
    "from pyecharts.commons.utils import JsCode\n",
    "from pyecharts.components import Table\n",
    "from pyecharts.faker import Faker\n",
    "from pyecharts.globals import ThemeType"
   ]
  },
  {
   "cell_type": "markdown",
   "metadata": {},
   "source": [
    "### 2.1封装条形图"
   ]
  },
  {
   "cell_type": "code",
   "execution_count": 6,
   "metadata": {},
   "outputs": [],
   "source": [
    "def bar_datazoom_slider() -> Bar:\n",
    "    c = (\n",
    "        \n",
    "        Bar(init_opts=opts.InitOpts(theme=ThemeType.MACARONS))\n",
    "        .add_xaxis(Faker.days_attrs)\n",
    "        .add_yaxis(\"商家A\", Faker.days_values)\n",
    "        .set_global_opts(\n",
    "            title_opts=opts.TitleOpts(title=\"Bar-DataZoom（slider-水平）\"),\n",
    "            datazoom_opts=[opts.DataZoomOpts()],\n",
    "        )\n",
    "    )\n",
    "    return c"
   ]
  },
  {
   "cell_type": "markdown",
   "metadata": {},
   "source": [
    "### 2.2封装折线图"
   ]
  },
  {
   "cell_type": "code",
   "execution_count": 7,
   "metadata": {},
   "outputs": [],
   "source": [
    "def line_markpoint(plant,xdata,ydata) -> Line:\n",
    "    title = plant + \"警报数量趋势图\"\n",
    "    c = (\n",
    "        Line(init_opts=opts.InitOpts(bg_color='rgba(255,250,205,0.2)',\n",
    "                                    width = '390px',\n",
    "                                     height = '250px',\n",
    "                                     theme=ThemeType.DARK\n",
    "                                    #theme=ThemeType.MACARONS括号内可改变主题\n",
    "                                    )) \n",
    "        \n",
    "        .add_xaxis(xdata)\n",
    "        .add_yaxis(\n",
    "            plant,\n",
    "            ydata,\n",
    "            markpoint_opts=opts.MarkPointOpts(data=[opts.MarkLineItem(type_=\"min\", name=\"最小值\"),\n",
    "                opts.MarkLineItem(type_=\"max\", name=\"最大值\"),\n",
    "                ]),\n",
    "        )\n",
    "        .set_global_opts(title_opts=opts.TitleOpts(title=title),\n",
    "                        legend_opts=opts.LegendOpts(type_=\"scroll\", pos_left=\"right\", orient=\"vertical\"))\n",
    "        .set_series_opts(\n",
    "        label_opts=opts.LabelOpts(is_show=False),\n",
    "        markline_opts=opts.MarkLineOpts(\n",
    "            data=[\n",
    "                opts.MarkLineItem(type_=\"average\", name=\"平均值\"),\n",
    "            ]\n",
    "        ),\n",
    "    )\n",
    "\n",
    "    )\n",
    "    return c"
   ]
  },
  {
   "cell_type": "markdown",
   "metadata": {},
   "source": [
    "### 2.3封装玫瑰图"
   ]
  },
  {
   "cell_type": "code",
   "execution_count": 8,
   "metadata": {},
   "outputs": [],
   "source": [
    "def pie_rosetype() -> Pie:\n",
    "    v = Faker.choose()\n",
    "    c = (\n",
    "        Pie(init_opts=opts.InitOpts(theme=ThemeType.MACARONS))\n",
    "        \n",
    "        .add(\n",
    "            \"\",\n",
    "            [list(z) for z in zip(v, Faker.values())],\n",
    "            radius=[\"30%\", \"75%\"],\n",
    "            center=[\"25%\", \"50%\"],\n",
    "            rosetype=\"radius\",\n",
    "            label_opts=opts.LabelOpts(is_show=False),\n",
    "        )\n",
    "        \n",
    "        \n",
    "        .add(\n",
    "            \"\",\n",
    "            [list(z) for z in zip(v, Faker.values())],\n",
    "            radius=[\"30%\", \"75%\"],\n",
    "            center=[\"75%\", \"50%\"],\n",
    "            rosetype=\"area\",\n",
    "        )\n",
    "        .set_global_opts(title_opts=opts.TitleOpts(title=\"Pie-玫瑰图示例\"))\n",
    "    )\n",
    "    return c"
   ]
  },
  {
   "cell_type": "markdown",
   "metadata": {},
   "source": [
    "### 2.4封装表格"
   ]
  },
  {
   "cell_type": "code",
   "execution_count": 9,
   "metadata": {},
   "outputs": [],
   "source": [
    "def table_base() -> Table:\n",
    "    table = Table()\n",
    "\n",
    "    headers = [\"City name\", \"Area\", \"Population\", \"Annual Rainfall\"]\n",
    "    rows = [\n",
    "        [\"Brisbane\", 5905, 1857594, 1146.4],\n",
    "        [\"Adelaide\", 1295, 1158259, 600.5],\n",
    "        [\"Darwin\", 112, 120900, 1714.7],\n",
    "        [\"Hobart\", 1357, 205556, 619.5],\n",
    "        [\"Sydney\", 2058, 4336374, 1214.8],\n",
    "        [\"Melbourne\", 1566, 3806092, 646.9],\n",
    "        [\"Perth\", 5386, 1554769, 869.4],\n",
    "    ]\n",
    "    table.add(headers, rows).set_global_opts(\n",
    "        title_opts=opts.ComponentTitleOpts(title=\"Table\")\n",
    "    )\n",
    "    return table"
   ]
  },
  {
   "cell_type": "markdown",
   "metadata": {},
   "source": [
    "### 2.5封装布局"
   ]
  },
  {
   "cell_type": "code",
   "execution_count": 10,
   "metadata": {},
   "outputs": [],
   "source": [
    "def page_simple_layout():\n",
    "#    page = Page()   默认布局\n",
    "#     page = Page(layout=Page.SimplePageLayout)    # 简单布局\n",
    "    page = Page(layout=Page.DraggablePageLayout)   #可移动布局\n",
    "    # 将上面定义好的图添加到 page\n",
    "    file = r'C:\\Users\\C3939\\Desktop\\CCJS 警报管理每周数量统计情况\\警报数按部门统计.xlsx'\n",
    "    stname = \"CSV\"\n",
    "    for i in range(1,18):\n",
    "        TmData,AlarmData,plantname = ReadData(file,stname,i)\n",
    "#         TmData,AlarmDataAO,plantname = ReadData(file,stname,3)\n",
    "        page.add(\n",
    "            \n",
    "            line_markpoint(plantname,TmData,AlarmData),\n",
    "          \n",
    "        )\n",
    "    page.render(\"index.html\")"
   ]
  },
  {
   "cell_type": "markdown",
   "metadata": {},
   "source": [
    "# 3.主函数"
   ]
  },
  {
   "cell_type": "code",
   "execution_count": 11,
   "metadata": {},
   "outputs": [],
   "source": [
    "if __name__ == \"__main__\":\n",
    "    page_simple_layout()"
   ]
  },
  {
   "cell_type": "markdown",
   "metadata": {},
   "source": [
    "# 4.HTML布置"
   ]
  },
  {
   "cell_type": "code",
   "execution_count": 12,
   "metadata": {},
   "outputs": [],
   "source": [
    "from bs4 import BeautifulSoup"
   ]
  },
  {
   "cell_type": "code",
   "execution_count": 14,
   "metadata": {},
   "outputs": [],
   "source": [
    "with open(\"index.html\", \"r+\", encoding='utf-8') as html:\n",
    "    html_bf = BeautifulSoup(html, 'lxml')\n",
    "    divs = html_bf.select('.chart-container')\n",
    "    meta=html_bf.find('meta')\n",
    "    meta['name']=\"viewport\"\n",
    "    meta['content']=\"width=device-width, initial-scale=1\"\n",
    "    for i in range(17):\n",
    "        wid = 390\n",
    "        hei = 250\n",
    "        left =(i % 4)*400\n",
    "        top = (i//4)*300+100\n",
    "        divs[i][\"style\"] = \"width:%dpx;height:%dpx;position:absolute;top:%dpx;left:%dpx;border-style:solid;border-color:black;border-width:0px;\" % (wid,hei,top,left)\n",
    "    body = html_bf.find(\"body\")\n",
    "    body[\"style\"] = \"background-color:black;\"\n",
    "    div_title=\"<div align=\\\"center\\\" style=\\\"width:100%;\\\">\\n<span style=\\\"font-size:150%;font face=\\'微软雅黑\\';color:#FFFFFF\\\"><b>CCJS 各制程警报管理数据可视化看板</b></div>\"  \n",
    "    #修改页面背景色、追加标题\n",
    "    body.insert(0,BeautifulSoup(div_title,\"lxml\").div)\n",
    "    html_new = str(html_bf)\n",
    "    html.seek(0, 0)\n",
    "    html.truncate()\n",
    "    html.write(html_new)\n",
    "    html.close()"
   ]
  },
  {
   "cell_type": "code",
   "execution_count": null,
   "metadata": {},
   "outputs": [],
   "source": []
  }
 ],
 "metadata": {
  "kernelspec": {
   "display_name": "Python 3",
   "language": "python",
   "name": "python3"
  },
  "language_info": {
   "codemirror_mode": {
    "name": "ipython",
    "version": 3
   },
   "file_extension": ".py",
   "mimetype": "text/x-python",
   "name": "python",
   "nbconvert_exporter": "python",
   "pygments_lexer": "ipython3",
   "version": "3.6.13"
  }
 },
 "nbformat": 4,
 "nbformat_minor": 4
}
